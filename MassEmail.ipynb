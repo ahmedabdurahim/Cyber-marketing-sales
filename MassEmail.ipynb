{
  "cells": [
    {
      "cell_type": "markdown",
      "metadata": {
        "id": "view-in-github",
        "colab_type": "text"
      },
      "source": [
        "<a href=\"https://colab.research.google.com/github/ahmedabdurahim/Cyber-marketing-sales/blob/main/MassEmail.ipynb\" target=\"_parent\"><img src=\"https://colab.research.google.com/assets/colab-badge.svg\" alt=\"Open In Colab\"/></a>"
      ]
    },
    {
      "cell_type": "code",
      "execution_count": 4,
      "metadata": {
        "colab": {
          "base_uri": "https://localhost:8080/"
        },
        "id": "MyUA_iRIul4x",
        "outputId": "a1369bb7-1e1a-4931-8d02-4de70db2629f"
      },
      "outputs": [
        {
          "output_type": "stream",
          "name": "stdout",
          "text": [
            "Looking in indexes: https://pypi.org/simple, https://us-python.pkg.dev/colab-wheels/public/simple/\n",
            "Requirement already satisfied: redmail in /usr/local/lib/python3.7/dist-packages (0.4.2)\n",
            "Requirement already satisfied: jinja2 in /usr/local/lib/python3.7/dist-packages (from redmail) (2.11.3)\n",
            "Requirement already satisfied: MarkupSafe>=0.23 in /usr/local/lib/python3.7/dist-packages (from jinja2->redmail) (2.0.1)\n",
            "Looking in indexes: https://pypi.org/simple, https://us-python.pkg.dev/colab-wheels/public/simple/\n",
            "Requirement already satisfied: names in /usr/local/lib/python3.7/dist-packages (0.3.0)\n",
            "Looking in indexes: https://pypi.org/simple, https://us-python.pkg.dev/colab-wheels/public/simple/\n",
            "Collecting secrets\n",
            "  Downloading secrets-1.0.2.tar.gz (7.9 kB)\n",
            "\u001b[33mWARNING: Discarding https://files.pythonhosted.org/packages/93/c4/166925e31bc06bfe49deb4dc3922584790a33b897509bac388acdc074a60/secrets-1.0.2.tar.gz#sha256=37075ab08607092e76da2b86e94dd38a0216ec80088a0a3f9220077750aeddf9 (from https://pypi.org/simple/secrets/). Command errored out with exit status 1: python setup.py egg_info Check the logs for full command output.\u001b[0m\n",
            "\u001b[31mERROR: Could not find a version that satisfies the requirement secrets (from versions: 1.0.2)\u001b[0m\n",
            "\u001b[31mERROR: No matching distribution found for secrets\u001b[0m\n"
          ]
        }
      ],
      "source": [
        "! pip install redmail\n",
        "! pip install names\n",
        "! pip install secrets"
      ]
    },
    {
      "cell_type": "code",
      "execution_count": null,
      "metadata": {
        "id": "xgAZDkyhrOBV"
      },
      "outputs": [],
      "source": [
        "from redmail import outlook\n",
        "import pandas as pd\n",
        "from time import sleep\n",
        "import secrets\n",
        "\n",
        "df = pd.read_csv('/content/Gmail_Accounts.csv')\n",
        "\n",
        "subjectsList = ['I have an amazing offer for you!',\n",
        "                'You should see the discount I just got you!',\n",
        "                'Are you looking for some apparel?, You should take a look at this',\n",
        "                'Hey, I have a discount coupon code for you! Check this out ->',\n",
        "                'I bet you wanna see what I have for you ->']\n",
        "\n",
        "bodyList = ['Greetings!\\n\\nI am here to inform you about an amazing and top quality clothing brand named pealthepeel. pealthepeel honestly has an amazing variety of hoodies, tshirts you name it.\\nCurrently they are running a sale for upto 15% off just FOR YOU. Go to www.pealthepeel.com and use code EARLYBIRD to benefit from this opportunity\\n\\nLive long and prosper :)\\nBest!\\n\\n\\n\\nFollow @pealthepeel on instagram and tiktok',\n",
        "            'Howdy!\\n\\nI bet you are interested in what I have for you. www.pealthepeel.com is offering a discount or free shipping SPECIALLY JUST FOR YOU.\\nUse the code EARLYBIRD at checkout for discount at www.pealthepeel.com for more\\n\\nSent with love.\\nBest\\n\\n\\n\\nFollow @pealthepeel on instagram and tiktok',\n",
        "            'Hey hey!\\n\\nI have something you might like. www.pealthepeel.com sells top quality apparel and you have been picked for an exclusive up to 15% discount code.\\nPurchase whatever you like from www.pealthepeel.com and use discount code EARLYBIRD at checkout\\n\\nSent with love.\\nBest\\n\\n\\n\\nFollow @pealthepeel on instagram and tiktok',\n",
        "            'How are you doing today?\\n\\nYou might like this, www.pealthepeel.com is offering discount codes EXCLUSIVELY for all kinds of hoodies, apparen and t-shirts.\\nYou are one of the very few to get this discount of UP TO 15% with coupon code EARLYBIRD.\\nClaim your perks on www.pealthepeel.com today!.\\n\\nSent with love.\\nBest\\n\\n\\n\\nFollow @pealthepeel on instagram and tiktok',\n",
        "            'Hello, how are you?\\n\\nWe at www.pealthepeel.com are offering EXCLUSIVE discount for all kinds of apparel, hoodies and t-shirts.\\nWe have HANDPICKED you to enjoy UP TO 15% discount on all our products for a LIMITED time.\\nGet some hoodies and t-shirts for you or your family TODAY!\\nGo to www.pealthepeel.com and use code EARLYBIRD at checkout to claim your discount\\nBest\\n\\n\\n\\nFollow @pealthepeel on instagram and tiktok']\n",
        "\n",
        "for i in range(300):\n",
        "  outlook.username = \"email\"\n",
        "  outlook.password = \"password\"\n",
        "\n",
        "  outlook.send(\n",
        "      receivers = [df['EMAIL'][i]],\n",
        "      subject = secrets.choice(subjectsList),\n",
        "      text= secrets.choice(bodyList)\n",
        "      )\n",
        "  sleep(5)\n",
        "  print('sent ' + str(i))"
      ]
    }
  ],
  "metadata": {
    "colab": {
      "provenance": [],
      "authorship_tag": "ABX9TyPO+O/RbZDyXymJoSrJDN8L",
      "include_colab_link": true
    },
    "kernelspec": {
      "display_name": "Python 3",
      "name": "python3"
    },
    "language_info": {
      "name": "python"
    }
  },
  "nbformat": 4,
  "nbformat_minor": 0
}