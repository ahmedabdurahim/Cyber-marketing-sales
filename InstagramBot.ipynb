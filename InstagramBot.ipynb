{
  "cells": [
    {
      "cell_type": "markdown",
      "metadata": {
        "id": "view-in-github",
        "colab_type": "text"
      },
      "source": [
        "<a href=\"https://colab.research.google.com/github/ahmedabdurahim/Cyber-marketing-sales/blob/main/InstagramBot.ipynb\" target=\"_parent\"><img src=\"https://colab.research.google.com/assets/colab-badge.svg\" alt=\"Open In Colab\"/></a>"
      ]
    },
    {
      "cell_type": "code",
      "source": [
        "! pip install selenium\n",
        "!apt-get update \n",
        "!apt install chromium-chromedriver"
      ],
      "metadata": {
        "id": "IL5inUqB09qo"
      },
      "execution_count": null,
      "outputs": []
    },
    {
      "cell_type": "code",
      "execution_count": null,
      "metadata": {
        "id": "Yj1m7AJ201lp"
      },
      "outputs": [],
      "source": [
        "from time import sleep\n",
        "from selenium import webdriver\n",
        "from selenium.webdriver.support import expected_conditions as EC\n",
        "from selenium.webdriver.support.ui import WebDriverWait\n",
        "from selenium.webdriver.common.by import By\n",
        "from selenium.webdriver.common.action_chains import ActionChains\n",
        "from selenium.webdriver.common.keys import Keys\n",
        "#from secrets import passw"
      ]
    },
    {
      "cell_type": "code",
      "execution_count": null,
      "metadata": {
        "colab": {
          "base_uri": "https://localhost:8080/"
        },
        "id": "DsHMheGU01lz",
        "outputId": "7cfa92d6-d936-410a-fdde-1d33b6b23b0e"
      },
      "outputs": [
        {
          "output_type": "stream",
          "name": "stderr",
          "text": [
            "/usr/local/lib/python3.7/dist-packages/ipykernel_launcher.py:5: DeprecationWarning: use options instead of chrome_options\n",
            "  \"\"\"\n"
          ]
        }
      ],
      "source": [
        "chrome_options = webdriver.ChromeOptions()\n",
        "chrome_options.add_argument('--headless')\n",
        "chrome_options.add_argument('--no-sandbox')\n",
        "chrome_options.add_argument('--disable-dev-shm-usage')\n",
        "driver = webdriver.Chrome('chromedriver',chrome_options=chrome_options)\n",
        "driver.get(\"https://instagram.com\")"
      ]
    },
    {
      "cell_type": "code",
      "execution_count": null,
      "metadata": {
        "id": "-lZaQsOM01l3"
      },
      "outputs": [],
      "source": [
        "username = # your username in quotes\n",
        "password = # your password in quotes\n",
        "links = []"
      ]
    },
    {
      "cell_type": "code",
      "execution_count": null,
      "metadata": {
        "id": "cBNPC8uQ01l7",
        "colab": {
          "base_uri": "https://localhost:8080/"
        },
        "outputId": "f7071145-ced9-4b77-cc37-f5d9c70dc4e6"
      },
      "outputs": [
        {
          "output_type": "stream",
          "name": "stdout",
          "text": [
            "Element not found! proceeding...\n"
          ]
        }
      ],
      "source": [
        "try:\n",
        "    WebDriverWait(driver, 10).until(EC.element_to_be_clickable((By.XPATH,'//button[text() = \"Only allow essential cookies\"]'))).click()\n",
        "except:\n",
        "    print('Element not found! proceeding...')\n"
      ]
    },
    {
      "cell_type": "code",
      "execution_count": null,
      "metadata": {
        "id": "7jkXrt7301mA"
      },
      "outputs": [],
      "source": [
        "sleep(5)\n",
        "username_input = driver.find_element(\"xpath\",'/html/body/div[1]/div/div/div/div[1]/div/div/div/div[1]/section/main/article/div[2]/div[1]/div[2]/form/div/div[1]/div/label/input')\n",
        "username_input.send_keys(username)\n",
        "sleep(1)\n",
        "password_input = driver.find_element('xpath','/html/body/div[1]/div/div/div/div[1]/div/div/div/div[1]/section/main/article/div[2]/div[1]/div[2]/form/div/div[2]/div/label/input')\n",
        "password_input.send_keys(password)"
      ]
    },
    {
      "cell_type": "code",
      "execution_count": null,
      "metadata": {
        "id": "X86rR5FT01mD"
      },
      "outputs": [],
      "source": [
        "#clicking login button\n",
        "driver.find_element('xpath', '/html/body/div[1]/div/div/div/div[1]/div/div/div/div[1]/section/main/article/div[2]/div[1]/div[2]/form/div/div[3]/button/div').click()\n",
        "sleep(10)"
      ]
    },
    {
      "cell_type": "code",
      "execution_count": null,
      "metadata": {
        "id": "uaS8kGcI01mH"
      },
      "outputs": [],
      "source": [
        "#save login info\n",
        "WebDriverWait(driver, 20).until(EC.element_to_be_clickable((By.XPATH,'//button[text() = \"Not Now\"]'))).click()\n",
        "sleep(10)\n",
        "WebDriverWait(driver, 20).until(EC.element_to_be_clickable((By.XPATH,'//button[text() = \"Not Now\"]'))).click()"
      ]
    },
    {
      "cell_type": "code",
      "execution_count": null,
      "metadata": {
        "id": "OB-3eHr_01mL"
      },
      "outputs": [],
      "source": [
        "\n",
        "hashtag = 'tbt'"
      ]
    },
    {
      "cell_type": "code",
      "execution_count": null,
      "metadata": {
        "id": "LyLFU3qh01mN"
      },
      "outputs": [],
      "source": [
        "sleep(2)\n",
        "driver.get('https://www.instagram.com/explore/tags/{}/'.format(hashtag))\n",
        "\n",
        "like_xpath = '/html/body/div[1]/div/div/div/div[2]/div/div/div[1]/div/div[3]/div/div/div/div/div[2]/div/article/div/div[2]/div/div/div[2]/section[2]/div/div/div/a/div/span'\n",
        "sleep(10)\n",
        "WebDriverWait(driver, 10).until(EC.element_to_be_clickable((By.XPATH,'/html/body/div[1]/div/div/div/div[1]/div/div/div/div[1]/section/main/article/div/div/div/div[1]/div[1]/a/div[1]/div[2]'))).click()\n",
        "sleep(10)\n",
        "WebDriverWait(driver, 10).until(EC.element_to_be_clickable((By.XPATH,like_xpath))).click()\n"
      ]
    },
    {
      "cell_type": "code",
      "execution_count": null,
      "metadata": {
        "id": "RzqW5YA101mS"
      },
      "outputs": [],
      "source": [
        "#Checking profile 1 for content\n",
        "sleep(2)\n",
        "WebDriverWait(driver, 10).until(EC.element_to_be_clickable((By.XPATH, '/html/body/div[1]/div/div/div/div[2]/div/div/div[2]/div/div/div[1]/div/div[2]/div/div/div/div/div[2]/div/div[2]/div/div/div[1]/div[2]/div/div/div/span/a/span/div'))).click()\n",
        "sleep(2)\n",
        "WebDriverWait(driver, 10).until(EC.element_to_be_clickable((By.XPATH, '/html/body/div[1]/div/div/div/div[1]/div/div/div/div[1]/section/main/div/div[3]/article/div/div/div/div[1]/a/div/div[2]'))).click()\n",
        "sleep(2)\n",
        "WebDriverWait(driver, 10).until(EC.element_to_be_clickable((By.XPATH, '/html/body/div[1]/div/div/div/div[2]/div/div/div[1]/div/div[3]/div/div/div/div/div[2]/div/article/div/div[2]/div/div/div[2]/section[1]/span[1]/button'))).click()\n",
        "sleep(2)\n",
        "comment = driver.find_element_by_xpath('/html/body/div[1]/div/div/div/div[2]/div/div/div[1]/div/div[3]/div/div/div/div/div[2]/div/article/div/div[2]/div/div/div[2]/section[3]/div/form/textarea')\n",
        "comment.send_keys(\"great post. Check out my profile\")\n",
        "sleep(2)\n",
        "WebDriverWait(driver, 10).until(EC.element_to_be_clickable((By.XPATH, '/html/body/div[1]/div/div/div/div[2]/div/div/div[1]/div/div[3]/div/div/div/div/div[2]/div/article/div/div[2]/div/div/div[2]/section[3]/div/form/div[2]/button'))).click()\n",
        "sleep(1)\n"
      ]
    }
  ],
  "metadata": {
    "kernelspec": {
      "display_name": "Python 3.10.7 64-bit",
      "language": "python",
      "name": "python3"
    },
    "language_info": {
      "codemirror_mode": {
        "name": "ipython",
        "version": 3
      },
      "file_extension": ".py",
      "mimetype": "text/x-python",
      "name": "python",
      "nbconvert_exporter": "python",
      "pygments_lexer": "ipython3",
      "version": "3.10.7"
    },
    "orig_nbformat": 4,
    "vscode": {
      "interpreter": {
        "hash": "e7370f93d1d0cde622a1f8e1c04877d8463912d04d973331ad4851f04de6915a"
      }
    },
    "colab": {
      "provenance": [],
      "include_colab_link": true
    }
  },
  "nbformat": 4,
  "nbformat_minor": 0
}